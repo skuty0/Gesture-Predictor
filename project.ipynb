{
 "cells": [
  {
   "cell_type": "code",
   "execution_count": 1,
   "metadata": {},
   "outputs": [],
   "source": [
    "import pandas as pd\n",
    "import numpy as np\n",
    "from sklearn.preprocessing import StandardScaler\n",
    "from sklearn.model_selection import train_test_split\n",
    "from keras import Sequential\n",
    "from keras.layers import Dense"
   ]
  },
  {
   "cell_type": "code",
   "execution_count": 3,
   "metadata": {},
   "outputs": [],
   "source": [
    "def read_table(path):\n",
    "    \"\"\"Reads table and drops irrelevant columns and rows.\n",
    "    Returns an analysis ready DataFrame\"\"\"\n",
    "    df = pd.read_table('EMG/'+path)\n",
    "    df.drop(columns=['time'],inplace=True)\n",
    "    df = df[df['class']!=0]\n",
    "    return df"
   ]
  },
  {
   "cell_type": "code",
   "execution_count": 4,
   "metadata": {},
   "outputs": [],
   "source": [
    "df = read_table('1/2_1.txt')\n",
    "for n in range(2,37):\n",
    "    path = f'{n}/2_{n}.txt'\n",
    "    df = pd.concat([df, read_table(path)])"
   ]
  },
  {
   "cell_type": "code",
   "execution_count": 5,
   "metadata": {},
   "outputs": [
    {
     "data": {
      "text/html": [
       "<div>\n",
       "<style scoped>\n",
       "    .dataframe tbody tr th:only-of-type {\n",
       "        vertical-align: middle;\n",
       "    }\n",
       "\n",
       "    .dataframe tbody tr th {\n",
       "        vertical-align: top;\n",
       "    }\n",
       "\n",
       "    .dataframe thead th {\n",
       "        text-align: right;\n",
       "    }\n",
       "</style>\n",
       "<table border=\"1\" class=\"dataframe\">\n",
       "  <thead>\n",
       "    <tr style=\"text-align: right;\">\n",
       "      <th></th>\n",
       "      <th>channel1</th>\n",
       "      <th>channel2</th>\n",
       "      <th>channel3</th>\n",
       "      <th>channel4</th>\n",
       "      <th>channel5</th>\n",
       "      <th>channel6</th>\n",
       "      <th>channel7</th>\n",
       "      <th>channel8</th>\n",
       "      <th>class</th>\n",
       "    </tr>\n",
       "  </thead>\n",
       "  <tbody>\n",
       "    <tr>\n",
       "      <th>816</th>\n",
       "      <td>-0.00003</td>\n",
       "      <td>-0.00004</td>\n",
       "      <td>-0.00006</td>\n",
       "      <td>-0.00006</td>\n",
       "      <td>-0.00004</td>\n",
       "      <td>-0.00002</td>\n",
       "      <td>-0.00001</td>\n",
       "      <td>-0.00002</td>\n",
       "      <td>1</td>\n",
       "    </tr>\n",
       "    <tr>\n",
       "      <th>817</th>\n",
       "      <td>-0.00003</td>\n",
       "      <td>-0.00004</td>\n",
       "      <td>-0.00006</td>\n",
       "      <td>-0.00006</td>\n",
       "      <td>-0.00004</td>\n",
       "      <td>-0.00002</td>\n",
       "      <td>-0.00001</td>\n",
       "      <td>-0.00002</td>\n",
       "      <td>1</td>\n",
       "    </tr>\n",
       "    <tr>\n",
       "      <th>818</th>\n",
       "      <td>-0.00003</td>\n",
       "      <td>-0.00004</td>\n",
       "      <td>-0.00006</td>\n",
       "      <td>-0.00006</td>\n",
       "      <td>-0.00004</td>\n",
       "      <td>-0.00002</td>\n",
       "      <td>-0.00001</td>\n",
       "      <td>-0.00002</td>\n",
       "      <td>1</td>\n",
       "    </tr>\n",
       "    <tr>\n",
       "      <th>819</th>\n",
       "      <td>-0.00003</td>\n",
       "      <td>-0.00004</td>\n",
       "      <td>-0.00006</td>\n",
       "      <td>-0.00006</td>\n",
       "      <td>-0.00004</td>\n",
       "      <td>-0.00002</td>\n",
       "      <td>-0.00001</td>\n",
       "      <td>-0.00002</td>\n",
       "      <td>1</td>\n",
       "    </tr>\n",
       "    <tr>\n",
       "      <th>820</th>\n",
       "      <td>-0.00003</td>\n",
       "      <td>-0.00004</td>\n",
       "      <td>-0.00006</td>\n",
       "      <td>-0.00006</td>\n",
       "      <td>-0.00004</td>\n",
       "      <td>-0.00002</td>\n",
       "      <td>-0.00001</td>\n",
       "      <td>-0.00002</td>\n",
       "      <td>1</td>\n",
       "    </tr>\n",
       "    <tr>\n",
       "      <th>...</th>\n",
       "      <td>...</td>\n",
       "      <td>...</td>\n",
       "      <td>...</td>\n",
       "      <td>...</td>\n",
       "      <td>...</td>\n",
       "      <td>...</td>\n",
       "      <td>...</td>\n",
       "      <td>...</td>\n",
       "      <td>...</td>\n",
       "    </tr>\n",
       "    <tr>\n",
       "      <th>48664</th>\n",
       "      <td>0.00009</td>\n",
       "      <td>0.00001</td>\n",
       "      <td>0.00003</td>\n",
       "      <td>0.00001</td>\n",
       "      <td>-0.00003</td>\n",
       "      <td>-0.00008</td>\n",
       "      <td>0.00004</td>\n",
       "      <td>0.00000</td>\n",
       "      <td>6</td>\n",
       "    </tr>\n",
       "    <tr>\n",
       "      <th>48665</th>\n",
       "      <td>0.00009</td>\n",
       "      <td>0.00001</td>\n",
       "      <td>0.00003</td>\n",
       "      <td>0.00001</td>\n",
       "      <td>-0.00003</td>\n",
       "      <td>-0.00008</td>\n",
       "      <td>0.00004</td>\n",
       "      <td>0.00000</td>\n",
       "      <td>6</td>\n",
       "    </tr>\n",
       "    <tr>\n",
       "      <th>48666</th>\n",
       "      <td>0.00009</td>\n",
       "      <td>0.00001</td>\n",
       "      <td>0.00003</td>\n",
       "      <td>0.00001</td>\n",
       "      <td>-0.00003</td>\n",
       "      <td>-0.00008</td>\n",
       "      <td>0.00004</td>\n",
       "      <td>0.00000</td>\n",
       "      <td>6</td>\n",
       "    </tr>\n",
       "    <tr>\n",
       "      <th>48667</th>\n",
       "      <td>0.00014</td>\n",
       "      <td>0.00003</td>\n",
       "      <td>-0.00001</td>\n",
       "      <td>0.00001</td>\n",
       "      <td>-0.00012</td>\n",
       "      <td>0.00006</td>\n",
       "      <td>-0.00007</td>\n",
       "      <td>-0.00013</td>\n",
       "      <td>6</td>\n",
       "    </tr>\n",
       "    <tr>\n",
       "      <th>48668</th>\n",
       "      <td>0.00014</td>\n",
       "      <td>0.00003</td>\n",
       "      <td>-0.00001</td>\n",
       "      <td>0.00001</td>\n",
       "      <td>-0.00012</td>\n",
       "      <td>0.00006</td>\n",
       "      <td>-0.00007</td>\n",
       "      <td>-0.00013</td>\n",
       "      <td>6</td>\n",
       "    </tr>\n",
       "  </tbody>\n",
       "</table>\n",
       "<p>754690 rows × 9 columns</p>\n",
       "</div>"
      ],
      "text/plain": [
       "       channel1  channel2  channel3  channel4  channel5  channel6  channel7  \\\n",
       "816    -0.00003  -0.00004  -0.00006  -0.00006  -0.00004  -0.00002  -0.00001   \n",
       "817    -0.00003  -0.00004  -0.00006  -0.00006  -0.00004  -0.00002  -0.00001   \n",
       "818    -0.00003  -0.00004  -0.00006  -0.00006  -0.00004  -0.00002  -0.00001   \n",
       "819    -0.00003  -0.00004  -0.00006  -0.00006  -0.00004  -0.00002  -0.00001   \n",
       "820    -0.00003  -0.00004  -0.00006  -0.00006  -0.00004  -0.00002  -0.00001   \n",
       "...         ...       ...       ...       ...       ...       ...       ...   \n",
       "48664   0.00009   0.00001   0.00003   0.00001  -0.00003  -0.00008   0.00004   \n",
       "48665   0.00009   0.00001   0.00003   0.00001  -0.00003  -0.00008   0.00004   \n",
       "48666   0.00009   0.00001   0.00003   0.00001  -0.00003  -0.00008   0.00004   \n",
       "48667   0.00014   0.00003  -0.00001   0.00001  -0.00012   0.00006  -0.00007   \n",
       "48668   0.00014   0.00003  -0.00001   0.00001  -0.00012   0.00006  -0.00007   \n",
       "\n",
       "       channel8  class  \n",
       "816    -0.00002      1  \n",
       "817    -0.00002      1  \n",
       "818    -0.00002      1  \n",
       "819    -0.00002      1  \n",
       "820    -0.00002      1  \n",
       "...         ...    ...  \n",
       "48664   0.00000      6  \n",
       "48665   0.00000      6  \n",
       "48666   0.00000      6  \n",
       "48667  -0.00013      6  \n",
       "48668  -0.00013      6  \n",
       "\n",
       "[754690 rows x 9 columns]"
      ]
     },
     "execution_count": 5,
     "metadata": {},
     "output_type": "execute_result"
    }
   ],
   "source": [
    "df"
   ]
  },
  {
   "cell_type": "code",
   "execution_count": 6,
   "metadata": {},
   "outputs": [],
   "source": [
    "df.reset_index(drop=True,inplace=True)"
   ]
  },
  {
   "cell_type": "code",
   "execution_count": 7,
   "metadata": {},
   "outputs": [
    {
     "data": {
      "text/plain": [
       "class\n",
       "4    127509\n",
       "6    127490\n",
       "5    125881\n",
       "3    124058\n",
       "2    121604\n",
       "1    121539\n",
       "7      6609\n",
       "Name: count, dtype: int64"
      ]
     },
     "execution_count": 7,
     "metadata": {},
     "output_type": "execute_result"
    }
   ],
   "source": [
    "df['class'].value_counts()"
   ]
  },
  {
   "cell_type": "code",
   "execution_count": 8,
   "metadata": {},
   "outputs": [],
   "source": [
    "mapping = {1:0, 2:1, 3:2, 4:3, 5:4, 6:5, 7:6}\n",
    "df['class'] = df['class'].map(mapping)"
   ]
  },
  {
   "cell_type": "code",
   "execution_count": 9,
   "metadata": {},
   "outputs": [
    {
     "data": {
      "text/plain": [
       "class\n",
       "3    127509\n",
       "5    127490\n",
       "4    125881\n",
       "2    124058\n",
       "1    121604\n",
       "0    121539\n",
       "6      6609\n",
       "Name: count, dtype: int64"
      ]
     },
     "execution_count": 9,
     "metadata": {},
     "output_type": "execute_result"
    }
   ],
   "source": [
    "df['class'].value_counts()"
   ]
  },
  {
   "cell_type": "code",
   "execution_count": 10,
   "metadata": {},
   "outputs": [],
   "source": [
    "X = df.drop(columns=['class'])\n",
    "y = df['class']"
   ]
  },
  {
   "cell_type": "code",
   "execution_count": 11,
   "metadata": {},
   "outputs": [],
   "source": [
    "X_train, X_test, y_train, y_test = train_test_split(X,y, test_size=0.20)"
   ]
  },
  {
   "cell_type": "code",
   "execution_count": 12,
   "metadata": {},
   "outputs": [
    {
     "data": {
      "text/html": [
       "<div>\n",
       "<style scoped>\n",
       "    .dataframe tbody tr th:only-of-type {\n",
       "        vertical-align: middle;\n",
       "    }\n",
       "\n",
       "    .dataframe tbody tr th {\n",
       "        vertical-align: top;\n",
       "    }\n",
       "\n",
       "    .dataframe thead th {\n",
       "        text-align: right;\n",
       "    }\n",
       "</style>\n",
       "<table border=\"1\" class=\"dataframe\">\n",
       "  <thead>\n",
       "    <tr style=\"text-align: right;\">\n",
       "      <th></th>\n",
       "      <th>channel1</th>\n",
       "      <th>channel2</th>\n",
       "      <th>channel3</th>\n",
       "      <th>channel4</th>\n",
       "      <th>channel5</th>\n",
       "      <th>channel6</th>\n",
       "      <th>channel7</th>\n",
       "      <th>channel8</th>\n",
       "    </tr>\n",
       "  </thead>\n",
       "  <tbody>\n",
       "    <tr>\n",
       "      <th>407254</th>\n",
       "      <td>-0.00002</td>\n",
       "      <td>-0.00006</td>\n",
       "      <td>-0.00009</td>\n",
       "      <td>-0.00007</td>\n",
       "      <td>-0.00005</td>\n",
       "      <td>0.00000</td>\n",
       "      <td>-0.00002</td>\n",
       "      <td>0.00000</td>\n",
       "    </tr>\n",
       "    <tr>\n",
       "      <th>217942</th>\n",
       "      <td>-0.00019</td>\n",
       "      <td>-0.00003</td>\n",
       "      <td>-0.00043</td>\n",
       "      <td>-0.00128</td>\n",
       "      <td>0.00071</td>\n",
       "      <td>0.00027</td>\n",
       "      <td>-0.00025</td>\n",
       "      <td>0.00002</td>\n",
       "    </tr>\n",
       "    <tr>\n",
       "      <th>322344</th>\n",
       "      <td>-0.00005</td>\n",
       "      <td>-0.00012</td>\n",
       "      <td>-0.00012</td>\n",
       "      <td>-0.00020</td>\n",
       "      <td>-0.00003</td>\n",
       "      <td>-0.00071</td>\n",
       "      <td>-0.00019</td>\n",
       "      <td>-0.00011</td>\n",
       "    </tr>\n",
       "    <tr>\n",
       "      <th>94715</th>\n",
       "      <td>-0.00002</td>\n",
       "      <td>-0.00004</td>\n",
       "      <td>-0.00002</td>\n",
       "      <td>-0.00003</td>\n",
       "      <td>-0.00001</td>\n",
       "      <td>0.00002</td>\n",
       "      <td>-0.00013</td>\n",
       "      <td>0.00009</td>\n",
       "    </tr>\n",
       "    <tr>\n",
       "      <th>118478</th>\n",
       "      <td>0.00001</td>\n",
       "      <td>-0.00002</td>\n",
       "      <td>-0.00002</td>\n",
       "      <td>0.00001</td>\n",
       "      <td>0.00009</td>\n",
       "      <td>0.00000</td>\n",
       "      <td>0.00000</td>\n",
       "      <td>0.00000</td>\n",
       "    </tr>\n",
       "    <tr>\n",
       "      <th>...</th>\n",
       "      <td>...</td>\n",
       "      <td>...</td>\n",
       "      <td>...</td>\n",
       "      <td>...</td>\n",
       "      <td>...</td>\n",
       "      <td>...</td>\n",
       "      <td>...</td>\n",
       "      <td>...</td>\n",
       "    </tr>\n",
       "    <tr>\n",
       "      <th>594986</th>\n",
       "      <td>-0.00002</td>\n",
       "      <td>0.00000</td>\n",
       "      <td>0.00002</td>\n",
       "      <td>0.00001</td>\n",
       "      <td>-0.00001</td>\n",
       "      <td>-0.00002</td>\n",
       "      <td>-0.00001</td>\n",
       "      <td>0.00000</td>\n",
       "    </tr>\n",
       "    <tr>\n",
       "      <th>133674</th>\n",
       "      <td>-0.00014</td>\n",
       "      <td>-0.00005</td>\n",
       "      <td>-0.00021</td>\n",
       "      <td>0.00011</td>\n",
       "      <td>0.00011</td>\n",
       "      <td>0.00018</td>\n",
       "      <td>0.00016</td>\n",
       "      <td>0.00089</td>\n",
       "    </tr>\n",
       "    <tr>\n",
       "      <th>671370</th>\n",
       "      <td>-0.00006</td>\n",
       "      <td>-0.00005</td>\n",
       "      <td>-0.00009</td>\n",
       "      <td>-0.00007</td>\n",
       "      <td>-0.00035</td>\n",
       "      <td>0.00001</td>\n",
       "      <td>0.00022</td>\n",
       "      <td>-0.00009</td>\n",
       "    </tr>\n",
       "    <tr>\n",
       "      <th>106050</th>\n",
       "      <td>-0.00001</td>\n",
       "      <td>-0.00006</td>\n",
       "      <td>-0.00009</td>\n",
       "      <td>-0.00007</td>\n",
       "      <td>0.00009</td>\n",
       "      <td>-0.00001</td>\n",
       "      <td>-0.00006</td>\n",
       "      <td>0.00004</td>\n",
       "    </tr>\n",
       "    <tr>\n",
       "      <th>627071</th>\n",
       "      <td>-0.00001</td>\n",
       "      <td>-0.00001</td>\n",
       "      <td>0.00000</td>\n",
       "      <td>-0.00001</td>\n",
       "      <td>-0.00016</td>\n",
       "      <td>-0.00035</td>\n",
       "      <td>-0.00004</td>\n",
       "      <td>0.00004</td>\n",
       "    </tr>\n",
       "  </tbody>\n",
       "</table>\n",
       "<p>603752 rows × 8 columns</p>\n",
       "</div>"
      ],
      "text/plain": [
       "        channel1  channel2  channel3  channel4  channel5  channel6  channel7  \\\n",
       "407254  -0.00002  -0.00006  -0.00009  -0.00007  -0.00005   0.00000  -0.00002   \n",
       "217942  -0.00019  -0.00003  -0.00043  -0.00128   0.00071   0.00027  -0.00025   \n",
       "322344  -0.00005  -0.00012  -0.00012  -0.00020  -0.00003  -0.00071  -0.00019   \n",
       "94715   -0.00002  -0.00004  -0.00002  -0.00003  -0.00001   0.00002  -0.00013   \n",
       "118478   0.00001  -0.00002  -0.00002   0.00001   0.00009   0.00000   0.00000   \n",
       "...          ...       ...       ...       ...       ...       ...       ...   \n",
       "594986  -0.00002   0.00000   0.00002   0.00001  -0.00001  -0.00002  -0.00001   \n",
       "133674  -0.00014  -0.00005  -0.00021   0.00011   0.00011   0.00018   0.00016   \n",
       "671370  -0.00006  -0.00005  -0.00009  -0.00007  -0.00035   0.00001   0.00022   \n",
       "106050  -0.00001  -0.00006  -0.00009  -0.00007   0.00009  -0.00001  -0.00006   \n",
       "627071  -0.00001  -0.00001   0.00000  -0.00001  -0.00016  -0.00035  -0.00004   \n",
       "\n",
       "        channel8  \n",
       "407254   0.00000  \n",
       "217942   0.00002  \n",
       "322344  -0.00011  \n",
       "94715    0.00009  \n",
       "118478   0.00000  \n",
       "...          ...  \n",
       "594986   0.00000  \n",
       "133674   0.00089  \n",
       "671370  -0.00009  \n",
       "106050   0.00004  \n",
       "627071   0.00004  \n",
       "\n",
       "[603752 rows x 8 columns]"
      ]
     },
     "execution_count": 12,
     "metadata": {},
     "output_type": "execute_result"
    }
   ],
   "source": [
    "X_train"
   ]
  },
  {
   "cell_type": "code",
   "execution_count": 13,
   "metadata": {},
   "outputs": [],
   "source": [
    "def scaler(df):\n",
    "    \"\"\"Normalizes the data, returns a DataFrame with the new scaled numbers\"\"\"\n",
    "    scaler = StandardScaler()\n",
    "    scaled = scaler.fit_transform(df)\n",
    "    df_scaled = pd.DataFrame(scaled, columns=df.columns)\n",
    "    return df_scaled"
   ]
  },
  {
   "cell_type": "code",
   "execution_count": 14,
   "metadata": {},
   "outputs": [],
   "source": [
    "X_train = scaler(X_train)\n",
    "X_test = scaler(X_test)"
   ]
  },
  {
   "cell_type": "code",
   "execution_count": 15,
   "metadata": {},
   "outputs": [
    {
     "name": "stdout",
     "output_type": "stream",
     "text": [
      "Model: \"sequential\"\n",
      "_________________________________________________________________\n",
      " Layer (type)                Output Shape              Param #   \n",
      "=================================================================\n",
      " dense (Dense)               (None, 10)                90        \n",
      "                                                                 \n",
      " dense_1 (Dense)             (None, 10)                110       \n",
      "                                                                 \n",
      " dense_2 (Dense)             (None, 7)                 77        \n",
      "                                                                 \n",
      "=================================================================\n",
      "Total params: 277\n",
      "Trainable params: 277\n",
      "Non-trainable params: 0\n",
      "_________________________________________________________________\n"
     ]
    }
   ],
   "source": [
    "model = Sequential()\n",
    "model.add(Dense(10, input_dim=8, activation='relu'))\n",
    "model.add(Dense(10, input_dim=8, activation='relu'))\n",
    "model.add(Dense(7,activation='softmax'))\n",
    "model.summary()"
   ]
  },
  {
   "cell_type": "code",
   "execution_count": 16,
   "metadata": {},
   "outputs": [
    {
     "name": "stdout",
     "output_type": "stream",
     "text": [
      "Epoch 1/20\n"
     ]
    },
    {
     "name": "stderr",
     "output_type": "stream",
     "text": [
      "2024-04-23 15:04:28.534775: W tensorflow/tsl/platform/profile_utils/cpu_utils.cc:128] Failed to get CPU frequency: 0 Hz\n"
     ]
    },
    {
     "name": "stdout",
     "output_type": "stream",
     "text": [
      "20126/20126 [==============================] - 11s 559us/step - loss: 1.1057 - accuracy: 0.5708\n",
      "Epoch 2/20\n",
      "20126/20126 [==============================] - 10s 505us/step - loss: 1.0198 - accuracy: 0.6098\n",
      "Epoch 3/20\n",
      "20126/20126 [==============================] - 11s 570us/step - loss: 1.0003 - accuracy: 0.6150\n",
      "Epoch 4/20\n",
      "20126/20126 [==============================] - 10s 504us/step - loss: 0.9914 - accuracy: 0.6172\n",
      "Epoch 5/20\n",
      "20126/20126 [==============================] - 10s 504us/step - loss: 0.9885 - accuracy: 0.6185\n",
      "Epoch 6/20\n",
      "20126/20126 [==============================] - 10s 504us/step - loss: 0.9872 - accuracy: 0.6194\n",
      "Epoch 7/20\n",
      "20126/20126 [==============================] - 10s 499us/step - loss: 0.9861 - accuracy: 0.6194\n",
      "Epoch 8/20\n",
      "20126/20126 [==============================] - 10s 504us/step - loss: 0.9849 - accuracy: 0.6199\n",
      "Epoch 9/20\n",
      "20126/20126 [==============================] - 11s 552us/step - loss: 0.9839 - accuracy: 0.6203\n",
      "Epoch 10/20\n",
      "20126/20126 [==============================] - 10s 504us/step - loss: 0.9830 - accuracy: 0.6209\n",
      "Epoch 11/20\n",
      "20126/20126 [==============================] - 10s 506us/step - loss: 0.9820 - accuracy: 0.6209\n",
      "Epoch 12/20\n",
      "20126/20126 [==============================] - 10s 507us/step - loss: 0.9807 - accuracy: 0.6216\n",
      "Epoch 13/20\n",
      "20126/20126 [==============================] - 10s 512us/step - loss: 0.9793 - accuracy: 0.6219\n",
      "Epoch 14/20\n",
      "20126/20126 [==============================] - 10s 502us/step - loss: 0.9784 - accuracy: 0.6224\n",
      "Epoch 15/20\n",
      "20126/20126 [==============================] - 10s 501us/step - loss: 0.9778 - accuracy: 0.6228\n",
      "Epoch 16/20\n",
      "20126/20126 [==============================] - 10s 504us/step - loss: 0.9774 - accuracy: 0.6225\n",
      "Epoch 17/20\n",
      "20126/20126 [==============================] - 10s 512us/step - loss: 0.9772 - accuracy: 0.6227\n",
      "Epoch 18/20\n",
      "20126/20126 [==============================] - 10s 500us/step - loss: 0.9770 - accuracy: 0.6229\n",
      "Epoch 19/20\n",
      "20126/20126 [==============================] - 10s 514us/step - loss: 0.9767 - accuracy: 0.6229\n",
      "Epoch 20/20\n",
      "20126/20126 [==============================] - 10s 504us/step - loss: 0.9767 - accuracy: 0.6231\n"
     ]
    },
    {
     "data": {
      "text/plain": [
       "<keras.callbacks.History at 0x17f9964d0>"
      ]
     },
     "execution_count": 16,
     "metadata": {},
     "output_type": "execute_result"
    }
   ],
   "source": [
    "model.compile(optimizer='adam',\n",
    "              loss='sparse_categorical_crossentropy',\n",
    "              metrics=['accuracy'])\n",
    "model.fit(X_train, y_train, epochs=20, batch_size=30)"
   ]
  },
  {
   "cell_type": "code",
   "execution_count": 17,
   "metadata": {},
   "outputs": [
    {
     "name": "stdout",
     "output_type": "stream",
     "text": [
      "4717/4717 [==============================] - 3s 528us/step - loss: 0.9714 - accuracy: 0.6245\n"
     ]
    },
    {
     "data": {
      "text/plain": [
       "[0.971442461013794, 0.6245412230491638]"
      ]
     },
     "execution_count": 17,
     "metadata": {},
     "output_type": "execute_result"
    }
   ],
   "source": [
    "model.evaluate(X_test,y_test)"
   ]
  },
  {
   "cell_type": "markdown",
   "metadata": {},
   "source": []
  }
 ],
 "metadata": {
  "kernelspec": {
   "display_name": "neuralnets",
   "language": "python",
   "name": "python3"
  },
  "language_info": {
   "codemirror_mode": {
    "name": "ipython",
    "version": 3
   },
   "file_extension": ".py",
   "mimetype": "text/x-python",
   "name": "python",
   "nbconvert_exporter": "python",
   "pygments_lexer": "ipython3",
   "version": "3.11.5"
  }
 },
 "nbformat": 4,
 "nbformat_minor": 2
}
